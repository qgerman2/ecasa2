{
 "cells": [
  {
   "cell_type": "code",
   "execution_count": 23,
   "metadata": {},
   "outputs": [],
   "source": [
    "import numpy as np\n",
    "from scipy import signal\n",
    "from sympy import *\n",
    "import matplotlib.pyplot as plt\n",
    "from numpy.random import randn\n",
    "from filterpy.kalman import KalmanFilter\n",
    "import eom2js\n",
    "\n",
    "def disp(name: str, symbol: Symbol):\n",
    "    display(Eq(Dummy(name), symbol, evaluate=False))\n",
    "\n",
    "def mateq2list(lhs: Matrix, rhs: Matrix):\n",
    "    L = []\n",
    "    for i in range(lhs.rows):\n",
    "        L.append(Eq(lhs[i], rhs[i], evaluate=False))\n",
    "    return L"
   ]
  },
  {
   "cell_type": "code",
   "execution_count": 2,
   "metadata": {},
   "outputs": [
    {
     "data": {
      "text/latex": [
       "$\\displaystyle F = \\left[\\begin{matrix}\\left(T_{1} - T_{2}\\right) \\sin{\\left(\\alpha \\right)}\\\\\\left(- T_{1} - T_{2}\\right) \\cos{\\left(\\alpha \\right)}\\end{matrix}\\right]$"
      ],
      "text/plain": [
       "Eq(_F, Matrix([\n",
       "[ (T1 - T2)*sin(alpha)],\n",
       "[(-T1 - T2)*cos(alpha)]]))"
      ]
     },
     "metadata": {},
     "output_type": "display_data"
    },
    {
     "data": {
      "text/latex": [
       "$\\displaystyle T = \\left(T_{1} - T_{2}\\right) \\left(- \\frac{h \\sin{\\left(\\alpha \\right)}}{2} + \\frac{w \\cos{\\left(\\alpha \\right)}}{2}\\right)$"
      ],
      "text/plain": [
       "Eq(_T, (T1 - T2)*(-h*sin(alpha)/2 + w*cos(alpha)/2))"
      ]
     },
     "metadata": {},
     "output_type": "display_data"
    }
   ],
   "source": [
    "m = symbols(\"m\")\n",
    "T1, T2 = symbols(\"T1 T2\")\n",
    "a = symbols(\"alpha\")\n",
    "\n",
    "w, h = symbols(\"w, h\")\n",
    "\n",
    "# Fuerzas y Torque body frame\n",
    "F_bf = Matrix([\n",
    "    (T1-T2)*sin(a),\n",
    "    (-T1-T2)*cos(a)\n",
    "])\n",
    "T = (T1-T2)*(cos(a)*w/2 - sin(a)*h/2)\n",
    "\n",
    "disp(\"F\", F_bf)\n",
    "disp(\"T\", T)"
   ]
  },
  {
   "cell_type": "code",
   "execution_count": 3,
   "metadata": {},
   "outputs": [
    {
     "data": {
      "text/latex": [
       "$\\displaystyle F = \\left[\\begin{matrix}- \\left(- T_{1} - T_{2}\\right) \\sin{\\left(\\theta{\\left(t \\right)} \\right)} \\cos{\\left(\\alpha \\right)} + \\left(T_{1} - T_{2}\\right) \\sin{\\left(\\alpha \\right)} \\cos{\\left(\\theta{\\left(t \\right)} \\right)}\\\\g m + \\left(- T_{1} - T_{2}\\right) \\cos{\\left(\\alpha \\right)} \\cos{\\left(\\theta{\\left(t \\right)} \\right)} + \\left(T_{1} - T_{2}\\right) \\sin{\\left(\\alpha \\right)} \\sin{\\left(\\theta{\\left(t \\right)} \\right)}\\end{matrix}\\right]$"
      ],
      "text/plain": [
       "Eq(_F, Matrix([\n",
       "[     -(-T1 - T2)*sin(theta(t))*cos(alpha) + (T1 - T2)*sin(alpha)*cos(theta(t))],\n",
       "[g*m + (-T1 - T2)*cos(alpha)*cos(theta(t)) + (T1 - T2)*sin(alpha)*sin(theta(t))]]))"
      ]
     },
     "metadata": {},
     "output_type": "display_data"
    }
   ],
   "source": [
    "theta = symbols(\"theta\", cls=Function)\n",
    "t = symbols(\"t\")\n",
    "g = symbols(\"g\")\n",
    "# Fuerzas en sistema inercial\n",
    "R = Matrix([\n",
    "    [cos(theta(t)), -sin(theta(t))],\n",
    "    [sin(theta(t)), cos(theta(t))]\n",
    "])\n",
    "\n",
    "F = R*F_bf + Matrix([0, m*g])\n",
    "\n",
    "disp(\"F\", F)"
   ]
  },
  {
   "cell_type": "code",
   "execution_count": 4,
   "metadata": {},
   "outputs": [
    {
     "data": {
      "text/latex": [
       "$\\displaystyle \\frac{d}{d t} x{\\left(t \\right)}$"
      ],
      "text/plain": [
       "Derivative(x(t), t)"
      ]
     },
     "metadata": {},
     "output_type": "display_data"
    },
    {
     "data": {
      "text/latex": [
       "$\\displaystyle \\frac{d}{d t} y{\\left(t \\right)}$"
      ],
      "text/plain": [
       "Derivative(y(t), t)"
      ]
     },
     "metadata": {},
     "output_type": "display_data"
    },
    {
     "data": {
      "text/latex": [
       "$\\displaystyle \\frac{d}{d t} \\theta{\\left(t \\right)}$"
      ],
      "text/plain": [
       "Derivative(theta(t), t)"
      ]
     },
     "metadata": {},
     "output_type": "display_data"
    },
    {
     "data": {
      "text/latex": [
       "$\\displaystyle \\frac{T_{1} \\sin{\\left(\\alpha \\right)} \\cos{\\left(\\theta{\\left(t \\right)} \\right)}}{m} + \\frac{T_{1} \\sin{\\left(\\theta{\\left(t \\right)} \\right)} \\cos{\\left(\\alpha \\right)}}{m} - \\frac{T_{2} \\sin{\\left(\\alpha \\right)} \\cos{\\left(\\theta{\\left(t \\right)} \\right)}}{m} + \\frac{T_{2} \\sin{\\left(\\theta{\\left(t \\right)} \\right)} \\cos{\\left(\\alpha \\right)}}{m}$"
      ],
      "text/plain": [
       "T1*sin(alpha)*cos(theta(t))/m + T1*sin(theta(t))*cos(alpha)/m - T2*sin(alpha)*cos(theta(t))/m + T2*sin(theta(t))*cos(alpha)/m"
      ]
     },
     "metadata": {},
     "output_type": "display_data"
    },
    {
     "data": {
      "text/latex": [
       "$\\displaystyle \\frac{T_{1} \\sin{\\left(\\alpha \\right)} \\sin{\\left(\\theta{\\left(t \\right)} \\right)}}{m} - \\frac{T_{1} \\cos{\\left(\\alpha \\right)} \\cos{\\left(\\theta{\\left(t \\right)} \\right)}}{m} - \\frac{T_{2} \\sin{\\left(\\alpha \\right)} \\sin{\\left(\\theta{\\left(t \\right)} \\right)}}{m} - \\frac{T_{2} \\cos{\\left(\\alpha \\right)} \\cos{\\left(\\theta{\\left(t \\right)} \\right)}}{m} + g$"
      ],
      "text/plain": [
       "T1*sin(alpha)*sin(theta(t))/m - T1*cos(alpha)*cos(theta(t))/m - T2*sin(alpha)*sin(theta(t))/m - T2*cos(alpha)*cos(theta(t))/m + g"
      ]
     },
     "metadata": {},
     "output_type": "display_data"
    },
    {
     "data": {
      "text/latex": [
       "$\\displaystyle - \\frac{6.0 T_{1} h \\sin{\\left(\\alpha \\right)}}{h^{2} m + m w^{2}} + \\frac{6.0 T_{1} w \\cos{\\left(\\alpha \\right)}}{h^{2} m + m w^{2}} + \\frac{6.0 T_{2} h \\sin{\\left(\\alpha \\right)}}{h^{2} m + m w^{2}} - \\frac{6.0 T_{2} w \\cos{\\left(\\alpha \\right)}}{h^{2} m + m w^{2}}$"
      ],
      "text/plain": [
       "-6.0*T1*h*sin(alpha)/(h**2*m + m*w**2) + 6.0*T1*w*cos(alpha)/(h**2*m + m*w**2) + 6.0*T2*h*sin(alpha)/(h**2*m + m*w**2) - 6.0*T2*w*cos(alpha)/(h**2*m + m*w**2)"
      ]
     },
     "metadata": {},
     "output_type": "display_data"
    }
   ],
   "source": [
    "x, y = symbols(\"x, y\", cls=Function)\n",
    "\n",
    "I = 1/12*m*(h**2+w**2)\n",
    "\n",
    "eom = eom2js.EOM(t, x(t), y(t), theta(t))\n",
    "eom.param = [g, m, a, w, h]\n",
    "eom.input = [T1, T2]\n",
    "\n",
    "# Ecuaciones del movimiento\n",
    "eqs = mateq2list(diff(Matrix([x(t), y(t)]), t, 2), F/m)\n",
    "eqs += [Eq(diff(theta(t), t, 2), T/I)]\n",
    "\n",
    "eom.add_eq(*eqs)\n",
    "eom.printjs(\"js/eom.js\")\n",
    "\n",
    "for eq in eom.eqs: display(eq)"
   ]
  },
  {
   "cell_type": "code",
   "execution_count": 5,
   "metadata": {},
   "outputs": [
    {
     "data": {
      "text/latex": [
       "$\\displaystyle \\frac{d}{d t} x{\\left(t \\right)}$"
      ],
      "text/plain": [
       "Derivative(x(t), t)"
      ]
     },
     "metadata": {},
     "output_type": "display_data"
    },
    {
     "data": {
      "text/latex": [
       "$\\displaystyle \\frac{d}{d t} y{\\left(t \\right)}$"
      ],
      "text/plain": [
       "Derivative(y(t), t)"
      ]
     },
     "metadata": {},
     "output_type": "display_data"
    },
    {
     "data": {
      "text/latex": [
       "$\\displaystyle \\frac{d}{d t} \\theta{\\left(t \\right)}$"
      ],
      "text/plain": [
       "Derivative(theta(t), t)"
      ]
     },
     "metadata": {},
     "output_type": "display_data"
    },
    {
     "data": {
      "text/latex": [
       "$\\displaystyle \\frac{T_{1} \\sin{\\left(\\alpha \\right)}}{m} - \\frac{T_{2} \\sin{\\left(\\alpha \\right)}}{m} + g \\theta{\\left(t \\right)}$"
      ],
      "text/plain": [
       "T1*sin(alpha)/m - T2*sin(alpha)/m + g*theta(t)"
      ]
     },
     "metadata": {},
     "output_type": "display_data"
    },
    {
     "data": {
      "text/latex": [
       "$\\displaystyle - \\frac{T_{1} \\cos{\\left(\\alpha \\right)}}{m} - \\frac{T_{2} \\cos{\\left(\\alpha \\right)}}{m}$"
      ],
      "text/plain": [
       "-T1*cos(alpha)/m - T2*cos(alpha)/m"
      ]
     },
     "metadata": {},
     "output_type": "display_data"
    },
    {
     "data": {
      "text/latex": [
       "$\\displaystyle - \\frac{6.0 T_{1} h \\sin{\\left(\\alpha \\right)}}{h^{2} m + m w^{2}} + \\frac{6.0 T_{1} w \\cos{\\left(\\alpha \\right)}}{h^{2} m + m w^{2}} + \\frac{6.0 T_{2} h \\sin{\\left(\\alpha \\right)}}{h^{2} m + m w^{2}} - \\frac{6.0 T_{2} w \\cos{\\left(\\alpha \\right)}}{h^{2} m + m w^{2}}$"
      ],
      "text/plain": [
       "-6.0*T1*h*sin(alpha)/(h**2*m + m*w**2) + 6.0*T1*w*cos(alpha)/(h**2*m + m*w**2) + 6.0*T2*h*sin(alpha)/(h**2*m + m*w**2) - 6.0*T2*w*cos(alpha)/(h**2*m + m*w**2)"
      ]
     },
     "metadata": {},
     "output_type": "display_data"
    },
    {
     "data": {
      "text/latex": [
       "$\\displaystyle \\left[\\begin{matrix}0 & 0 & 0 & 1 & 0 & 0\\\\0 & 0 & 0 & 0 & 1 & 0\\\\0 & 0 & 0 & 0 & 0 & 1\\\\0 & 0 & g & 0 & 0 & 0\\\\0 & 0 & 0 & 0 & 0 & 0\\\\0 & 0 & 0 & 0 & 0 & 0\\end{matrix}\\right]$"
      ],
      "text/plain": [
       "Matrix([\n",
       "[0, 0, 0, 1, 0, 0],\n",
       "[0, 0, 0, 0, 1, 0],\n",
       "[0, 0, 0, 0, 0, 1],\n",
       "[0, 0, g, 0, 0, 0],\n",
       "[0, 0, 0, 0, 0, 0],\n",
       "[0, 0, 0, 0, 0, 0]])"
      ]
     },
     "metadata": {},
     "output_type": "display_data"
    },
    {
     "data": {
      "text/latex": [
       "$\\displaystyle \\left[\\begin{matrix}0 & 0\\\\0 & 0\\\\0 & 0\\\\\\frac{\\sin{\\left(\\alpha \\right)}}{m} & - \\frac{\\sin{\\left(\\alpha \\right)}}{m}\\\\- \\frac{\\cos{\\left(\\alpha \\right)}}{m} & - \\frac{\\cos{\\left(\\alpha \\right)}}{m}\\\\- \\frac{6.0 h \\sin{\\left(\\alpha \\right)}}{h^{2} m + m w^{2}} + \\frac{6.0 w \\cos{\\left(\\alpha \\right)}}{h^{2} m + m w^{2}} & \\frac{6.0 h \\sin{\\left(\\alpha \\right)}}{h^{2} m + m w^{2}} - \\frac{6.0 w \\cos{\\left(\\alpha \\right)}}{h^{2} m + m w^{2}}\\end{matrix}\\right]$"
      ],
      "text/plain": [
       "Matrix([\n",
       "[                                                                       0,                                                                       0],\n",
       "[                                                                       0,                                                                       0],\n",
       "[                                                                       0,                                                                       0],\n",
       "[                                                            sin(alpha)/m,                                                           -sin(alpha)/m],\n",
       "[                                                           -cos(alpha)/m,                                                           -cos(alpha)/m],\n",
       "[-6.0*h*sin(alpha)/(h**2*m + m*w**2) + 6.0*w*cos(alpha)/(h**2*m + m*w**2), 6.0*h*sin(alpha)/(h**2*m + m*w**2) - 6.0*w*cos(alpha)/(h**2*m + m*w**2)]])"
      ]
     },
     "metadata": {},
     "output_type": "display_data"
    }
   ],
   "source": [
    "# Linealizar y espacio estado\n",
    "linear = []\n",
    "for eq in eqs:\n",
    "\teq = eq.subs(sin(theta(t)), 0)\n",
    "\teq = eq.subs(cos(theta(t)), 1)\n",
    "\teq = eq.subs(g, 0)\n",
    "\tlinear += [eq]\n",
    "\n",
    "linear[0] = Eq(diff(x(t), t, 2), linear[0].rhs + theta(t)*g)\n",
    "\n",
    "eom_linear = eom2js.EOM(t, x(t), y(t), theta(t))\n",
    "eom_linear.param = [g, m, a, w, h]\n",
    "eom_linear.input = [T1, T2]\n",
    "\n",
    "eom_linear.add_eq(*linear)\n",
    "for eq in eom_linear.eqs: display(eq)\n",
    "eom_linear.printjs(\"js/eom_linear.js\")\n",
    "\n",
    "A = linear_eq_to_matrix(eom_linear.eqs, eom.state())[0]\n",
    "B = linear_eq_to_matrix(eom_linear.eqs, [T1, T2])[0]\n",
    "display(A, B)"
   ]
  },
  {
   "cell_type": "code",
   "execution_count": 6,
   "metadata": {},
   "outputs": [
    {
     "data": {
      "text/plain": [
       "array([[0.  , 0.  , 0.  , 1.  , 0.  , 0.  ],\n",
       "       [0.  , 0.  , 0.  , 0.  , 1.  , 0.  ],\n",
       "       [0.  , 0.  , 0.  , 0.  , 0.  , 1.  ],\n",
       "       [0.  , 0.  , 9.81, 0.  , 0.  , 0.  ],\n",
       "       [0.  , 0.  , 0.  , 0.  , 0.  , 0.  ],\n",
       "       [0.  , 0.  , 0.  , 0.  , 0.  , 0.  ]])"
      ]
     },
     "metadata": {},
     "output_type": "display_data"
    },
    {
     "data": {
      "text/plain": [
       "array([[ 0.        ,  0.        ],\n",
       "       [ 0.        ,  0.        ],\n",
       "       [ 0.        ,  0.        ],\n",
       "       [ 0.02083333, -0.02083333],\n",
       "       [-0.03608439, -0.03608439],\n",
       "       [ 0.04462516, -0.04462516]])"
      ]
     },
     "metadata": {},
     "output_type": "display_data"
    },
    {
     "data": {
      "text/plain": [
       "array([-0.1, -0.2, -0.3, -0.5, -0.6, -0.7])"
      ]
     },
     "metadata": {},
     "output_type": "display_data"
    },
    {
     "data": {
      "text/plain": [
       "array([[ 1.02160401e-02, -1.66276616e+00,  9.00668242e+00,\n",
       "         1.79734374e-01, -1.10851173e+01,  1.73170520e+01],\n",
       "       [-1.37690088e-02, -1.66277213e+00, -1.02537625e+01,\n",
       "        -2.22300703e-01, -1.10851332e+01, -1.83494748e+01]])"
      ]
     },
     "metadata": {},
     "output_type": "display_data"
    },
    {
     "name": "stdout",
     "output_type": "stream",
     "text": [
      "-9.00668242359435*s.theta - 0.0102160401165573*s.x + 1.6627661565654*s.y - 17.317051994822*s.dtheta - 0.179734374117869*s.dx + 11.0851172572598*s.dy\n",
      "10.2537624674079*s.theta + 0.0137690087985938*s.x + 1.66277212643942*s.y + 18.3494747507769*s.dtheta + 0.222300703138698*s.dx + 11.08513321895*s.dy\n"
     ]
    }
   ],
   "source": [
    "# Control de espacio estado con posicionamiento de polos\n",
    "vals = {\n",
    "\tg : 9.81,\n",
    "\ta : np.pi/6,\n",
    "\tm : 24,\n",
    "\tw : 0.2,\n",
    "\th : 0.3\n",
    "}\n",
    "\n",
    "npA = matrix2numpy(A.subs(vals), dtype=\"float64\")\n",
    "npB = matrix2numpy(B.subs(vals), dtype=\"float64\")\n",
    "poles = np.array([-0.1, -0.2, -0.3, -0.5, -0.6, -0.7])\n",
    "K = signal.place_poles(npA, npB, poles)\n",
    "\n",
    "display(npA, npB, poles, K.gain_matrix)\n",
    "   \n",
    "print(eom.printer.doprint((-Matrix(K.gain_matrix)*Matrix(eom.state()))[0]))\n",
    "print(eom.printer.doprint((-Matrix(K.gain_matrix)*Matrix(eom.state()))[1]))"
   ]
  },
  {
   "cell_type": "code",
   "execution_count": 139,
   "metadata": {},
   "outputs": [],
   "source": [
    "# Integración con euler\n",
    "\n",
    "# Acción de control en equilibrio, propulsión justa para mantener la nave flotando quieta\n",
    "control_offset = [vals[g] / (2*np.cos(vals[a])/vals[m])]*2\n",
    "\n",
    "# Versión numerica de sistema de ecuaciones no lineal\n",
    "eom_np = lambdify(\n",
    "\t[eom.state()] + [eom.input],\n",
    "\tflatten(Matrix(eom.eqs).subs(vals)), modules=\"numpy\"\n",
    ")\n",
    "def fun(t, x, u):\n",
    "\tu = u + control_offset\n",
    "\treturn eom_np(x, u)"
   ]
  },
  {
   "cell_type": "code",
   "execution_count": 149,
   "metadata": {},
   "outputs": [
    {
     "data": {
      "text/plain": [
       "[<matplotlib.lines.Line2D at 0x17ce3cacd60>]"
      ]
     },
     "execution_count": 149,
     "metadata": {},
     "output_type": "execute_result"
    },
    {
     "data": {
      "image/png": "[encoded data removed]",
      "text/plain": [
       "<Figure size 640x480 with 1 Axes>"
      ]
     },
     "metadata": {},
     "output_type": "display_data"
    }
   ],
   "source": [
    "# Simulación sin ruido\n",
    "# Condiciones iniciales del laboratorio 2\n",
    "x = np.array([\n",
    "\t200,\n",
    "\t1000,\n",
    "\t0,\n",
    "\t-1,\n",
    "\t-5,\n",
    "\t0\n",
    "])\n",
    "\n",
    "# Arrays que almacenan el estado real, tiempo\n",
    "xs = []\n",
    "ts = []\n",
    "\n",
    "# Simulación\n",
    "timestep = 1/60\n",
    "for i in range(5000):\n",
    "\tt = i * timestep\n",
    "\tts.append(t)\n",
    "\tu = np.dot(-K.gain_matrix, x)\n",
    "\tx = x + [xk * timestep for xk in fun(t, x)]\n",
    "\txs.append(x)\n",
    "xs = np.array(xs)\n",
    "\n",
    "plt.plot(ts, xs[:,1])"
   ]
  },
  {
   "cell_type": "code",
   "execution_count": 216,
   "metadata": {},
   "outputs": [
    {
     "data": {
      "text/plain": [
       "[<matplotlib.lines.Line2D at 0x17cf00d2500>]"
      ]
     },
     "execution_count": 216,
     "metadata": {},
     "output_type": "execute_result"
    },
    {
     "data": {
      "image/png": "[encoded data removed]",
      "text/plain": [
       "<Figure size 640x480 with 1 Axes>"
      ]
     },
     "metadata": {},
     "output_type": "display_data"
    }
   ],
   "source": [
    "# Simulación con ruido\n",
    "# Condiciones iniciales del laboratorio 2\n",
    "x = np.array([\n",
    "\t200,\n",
    "\t1000,\n",
    "\t0,\n",
    "\t-1,\n",
    "\t-5,\n",
    "\t0\n",
    "])\n",
    "\n",
    "# Varianza medición\n",
    "pos_var = 50**2\n",
    "vel_var = 5**2\n",
    "giro_var = 0.1**2\n",
    "\n",
    "# Matrices filtro de Kalman\n",
    "timestep = 1/60\n",
    "kf = KalmanFilter(dim_x=6, dim_z=6, dim_u=2)\n",
    "# Belief\n",
    "kf.x = np.array([200, 1000, 0, -1, -5, 0])\n",
    "kf.P = np.diag([100, 100, 1, 100, 100, 1])\n",
    "# Input\n",
    "kf.B = npB*timestep\n",
    "# Proceso\n",
    "kf.F = npA*timestep + np.diag([1, 1, 1, 1, 1, 1])\n",
    "kf.Q = 0\n",
    "# Medición\n",
    "kf.H = np.array([\n",
    "    [1, 0, 0, 0, 0, 0],\n",
    "    [0, 1, 0, 0, 0, 0],\n",
    "    [0, 0, 1, 0, 0, 0],\n",
    "    [0, 0, 0, 1, 0, 0],\n",
    "    [0, 0, 0, 0, 1, 0],\n",
    "    [0, 0, 0, 0, 0, 1]\n",
    "])\n",
    "kf.R = np.diag([pos_var, pos_var, giro_var, vel_var, vel_var, giro_var])\n",
    "\n",
    "# Arrays que almacenan el estado real, tiempo\n",
    "xs = []\n",
    "ts = []\n",
    "zs = []\n",
    "kfx = []\n",
    "\n",
    "# Función para crear mediciones con ruido\n",
    "def get_measurement(x):\n",
    "\treturn [\n",
    "\t\tx[0] + randn() * np.sqrt(pos_var),\n",
    "\t\tx[1] + randn() * np.sqrt(pos_var),\n",
    "\t\tx[2] + randn() * np.sqrt(giro_var),\n",
    "\t\tx[3] + randn() * np.sqrt(vel_var),\n",
    "\t\tx[4] + randn() * np.sqrt(vel_var),\n",
    "\t\tx[5] + randn() * np.sqrt(giro_var),\n",
    "\t]\n",
    "\n",
    "# Simulación\n",
    "for i in range(10000):\n",
    "\t# Predicción filtro\n",
    "\tu = np.dot(-K.gain_matrix, kf.x)\n",
    "\tkf.predict(u)\n",
    "\t# Avanzar simulación\n",
    "\tt = i * timestep\n",
    "\tts.append(t)\n",
    "\tx = x + [xk * timestep for xk in fun(t, x, u)]\n",
    "\txs.append(x)\n",
    "\tz = get_measurement(x)\n",
    "\tzs.append(z)\n",
    "\t# Introducir medición al filtro\n",
    "\tkf.update(z)\n",
    "\tkfx.append(kf.x)\n",
    "\n",
    "xs = np.array(xs)\n",
    "zs = np.array(zs)\n",
    "kfx = np.array(kfx)\n",
    "\n",
    "plt.plot(ts, kfx[:,3])"
   ]
  }
 ],
 "metadata": {
  "kernelspec": {
   "display_name": "base",
   "language": "python",
   "name": "python3"
  },
  "language_info": {
   "codemirror_mode": {
    "name": "ipython",
    "version": 3
   },
   "file_extension": ".py",
   "mimetype": "text/x-python",
   "name": "python",
   "nbconvert_exporter": "python",
   "pygments_lexer": "ipython3",
   "version": "3.10.12"
  },
  "orig_nbformat": 4
 },
 "nbformat": 4,
 "nbformat_minor": 2
}
