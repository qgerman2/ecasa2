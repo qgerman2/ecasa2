{
 "cells": [
  {
   "cell_type": "code",
   "execution_count": 1,
   "metadata": {},
   "outputs": [],
   "source": [
    "import numpy as np\n",
    "from scipy import signal\n",
    "from sympy import *\n",
    "import eom2js\n",
    "\n",
    "def disp(name: str, symbol: Symbol):\n",
    "    display(Eq(Dummy(name), symbol, evaluate=False))\n",
    "\n",
    "def mateq2list(lhs: Matrix, rhs: Matrix):\n",
    "    L = []\n",
    "    for i in range(lhs.rows):\n",
    "        L.append(Eq(lhs[i], rhs[i], evaluate=False))\n",
    "    return L"
   ]
  },
  {
   "cell_type": "code",
   "execution_count": 2,
   "metadata": {},
   "outputs": [
    {
     "data": {
      "text/latex": [
       "$\\displaystyle F = \\left[\\begin{matrix}\\left(T_{1} - T_{2}\\right) \\sin{\\left(\\alpha \\right)}\\\\\\left(- T_{1} - T_{2}\\right) \\cos{\\left(\\alpha \\right)}\\end{matrix}\\right]$"
      ],
      "text/plain": [
       "Eq(_F, Matrix([\n",
       "[ (T1 - T2)*sin(alpha)],\n",
       "[(-T1 - T2)*cos(alpha)]]))"
      ]
     },
     "metadata": {},
     "output_type": "display_data"
    },
    {
     "data": {
      "text/latex": [
       "$\\displaystyle T = \\left(T_{1} - T_{2}\\right) \\left(- \\frac{h \\sin{\\left(\\alpha \\right)}}{2} + \\frac{w \\cos{\\left(\\alpha \\right)}}{2}\\right)$"
      ],
      "text/plain": [
       "Eq(_T, (T1 - T2)*(-h*sin(alpha)/2 + w*cos(alpha)/2))"
      ]
     },
     "metadata": {},
     "output_type": "display_data"
    }
   ],
   "source": [
    "m = symbols(\"m\")\n",
    "T1, T2 = symbols(\"T1 T2\")\n",
    "a = symbols(\"alpha\")\n",
    "\n",
    "w, h = symbols(\"w, h\")\n",
    "\n",
    "# Fuerzas y Torque body frame\n",
    "F_bf = Matrix([\n",
    "    (T1-T2)*sin(a),\n",
    "    (-T1-T2)*cos(a)\n",
    "])\n",
    "T = (T1-T2)*(cos(a)*w/2 - sin(a)*h/2)\n",
    "\n",
    "disp(\"F\", F_bf)\n",
    "disp(\"T\", T)"
   ]
  },
  {
   "cell_type": "code",
   "execution_count": 3,
   "metadata": {},
   "outputs": [
    {
     "data": {
      "text/latex": [
       "$\\displaystyle F = \\left[\\begin{matrix}- \\left(- T_{1} - T_{2}\\right) \\sin{\\left(\\theta{\\left(t \\right)} \\right)} \\cos{\\left(\\alpha \\right)} + \\left(T_{1} - T_{2}\\right) \\sin{\\left(\\alpha \\right)} \\cos{\\left(\\theta{\\left(t \\right)} \\right)}\\\\g m + \\left(- T_{1} - T_{2}\\right) \\cos{\\left(\\alpha \\right)} \\cos{\\left(\\theta{\\left(t \\right)} \\right)} + \\left(T_{1} - T_{2}\\right) \\sin{\\left(\\alpha \\right)} \\sin{\\left(\\theta{\\left(t \\right)} \\right)}\\end{matrix}\\right]$"
      ],
      "text/plain": [
       "Eq(_F, Matrix([\n",
       "[     -(-T1 - T2)*sin(theta(t))*cos(alpha) + (T1 - T2)*sin(alpha)*cos(theta(t))],\n",
       "[g*m + (-T1 - T2)*cos(alpha)*cos(theta(t)) + (T1 - T2)*sin(alpha)*sin(theta(t))]]))"
      ]
     },
     "metadata": {},
     "output_type": "display_data"
    }
   ],
   "source": [
    "theta = symbols(\"theta\", cls=Function)\n",
    "t = symbols(\"t\")\n",
    "g = symbols(\"g\")\n",
    "# Fuerzas en sistema inercial\n",
    "R = Matrix([\n",
    "    [cos(theta(t)), -sin(theta(t))],\n",
    "    [sin(theta(t)), cos(theta(t))]\n",
    "])\n",
    "\n",
    "F = R*F_bf + Matrix([0, m*g])\n",
    "\n",
    "disp(\"F\", F)"
   ]
  },
  {
   "cell_type": "code",
   "execution_count": 4,
   "metadata": {},
   "outputs": [
    {
     "data": {
      "text/latex": [
       "$\\displaystyle \\frac{d}{d t} x{\\left(t \\right)}$"
      ],
      "text/plain": [
       "Derivative(x(t), t)"
      ]
     },
     "metadata": {},
     "output_type": "display_data"
    },
    {
     "data": {
      "text/latex": [
       "$\\displaystyle \\frac{d}{d t} y{\\left(t \\right)}$"
      ],
      "text/plain": [
       "Derivative(y(t), t)"
      ]
     },
     "metadata": {},
     "output_type": "display_data"
    },
    {
     "data": {
      "text/latex": [
       "$\\displaystyle \\frac{d}{d t} \\theta{\\left(t \\right)}$"
      ],
      "text/plain": [
       "Derivative(theta(t), t)"
      ]
     },
     "metadata": {},
     "output_type": "display_data"
    },
    {
     "data": {
      "text/latex": [
       "$\\displaystyle \\frac{T_{1} \\sin{\\left(\\alpha \\right)} \\cos{\\left(\\theta{\\left(t \\right)} \\right)}}{m} + \\frac{T_{1} \\sin{\\left(\\theta{\\left(t \\right)} \\right)} \\cos{\\left(\\alpha \\right)}}{m} - \\frac{T_{2} \\sin{\\left(\\alpha \\right)} \\cos{\\left(\\theta{\\left(t \\right)} \\right)}}{m} + \\frac{T_{2} \\sin{\\left(\\theta{\\left(t \\right)} \\right)} \\cos{\\left(\\alpha \\right)}}{m}$"
      ],
      "text/plain": [
       "T1*sin(alpha)*cos(theta(t))/m + T1*sin(theta(t))*cos(alpha)/m - T2*sin(alpha)*cos(theta(t))/m + T2*sin(theta(t))*cos(alpha)/m"
      ]
     },
     "metadata": {},
     "output_type": "display_data"
    },
    {
     "data": {
      "text/latex": [
       "$\\displaystyle \\frac{T_{1} \\sin{\\left(\\alpha \\right)} \\sin{\\left(\\theta{\\left(t \\right)} \\right)}}{m} - \\frac{T_{1} \\cos{\\left(\\alpha \\right)} \\cos{\\left(\\theta{\\left(t \\right)} \\right)}}{m} - \\frac{T_{2} \\sin{\\left(\\alpha \\right)} \\sin{\\left(\\theta{\\left(t \\right)} \\right)}}{m} - \\frac{T_{2} \\cos{\\left(\\alpha \\right)} \\cos{\\left(\\theta{\\left(t \\right)} \\right)}}{m} + g$"
      ],
      "text/plain": [
       "T1*sin(alpha)*sin(theta(t))/m - T1*cos(alpha)*cos(theta(t))/m - T2*sin(alpha)*sin(theta(t))/m - T2*cos(alpha)*cos(theta(t))/m + g"
      ]
     },
     "metadata": {},
     "output_type": "display_data"
    },
    {
     "data": {
      "text/latex": [
       "$\\displaystyle - \\frac{6.0 T_{1} h \\sin{\\left(\\alpha \\right)}}{h^{2} m + m w^{2}} + \\frac{6.0 T_{1} w \\cos{\\left(\\alpha \\right)}}{h^{2} m + m w^{2}} + \\frac{6.0 T_{2} h \\sin{\\left(\\alpha \\right)}}{h^{2} m + m w^{2}} - \\frac{6.0 T_{2} w \\cos{\\left(\\alpha \\right)}}{h^{2} m + m w^{2}}$"
      ],
      "text/plain": [
       "-6.0*T1*h*sin(alpha)/(h**2*m + m*w**2) + 6.0*T1*w*cos(alpha)/(h**2*m + m*w**2) + 6.0*T2*h*sin(alpha)/(h**2*m + m*w**2) - 6.0*T2*w*cos(alpha)/(h**2*m + m*w**2)"
      ]
     },
     "metadata": {},
     "output_type": "display_data"
    }
   ],
   "source": [
    "x, y = symbols(\"x, y\", cls=Function)\n",
    "\n",
    "I = 1/12*m*(h**2+w**2)\n",
    "\n",
    "eom = eom2js.EOM(t, x(t), y(t), theta(t))\n",
    "eom.param = [g, m, a, w, h]\n",
    "eom.input = [T1, T2]\n",
    "\n",
    "# Ecuaciones del movimiento\n",
    "eqs = mateq2list(diff(Matrix([x(t), y(t)]), t, 2), F/m)\n",
    "eqs += [Eq(diff(theta(t), t, 2), T/I)]\n",
    "\n",
    "eom.add_eq(*eqs)\n",
    "eom.printjs(\"js/eom.js\")\n",
    "\n",
    "for eq in eom.eqs: display(eq)"
   ]
  },
  {
   "cell_type": "code",
   "execution_count": 5,
   "metadata": {},
   "outputs": [
    {
     "data": {
      "text/latex": [
       "$\\displaystyle \\frac{d}{d t} x{\\left(t \\right)}$"
      ],
      "text/plain": [
       "Derivative(x(t), t)"
      ]
     },
     "metadata": {},
     "output_type": "display_data"
    },
    {
     "data": {
      "text/latex": [
       "$\\displaystyle \\frac{d}{d t} y{\\left(t \\right)}$"
      ],
      "text/plain": [
       "Derivative(y(t), t)"
      ]
     },
     "metadata": {},
     "output_type": "display_data"
    },
    {
     "data": {
      "text/latex": [
       "$\\displaystyle \\frac{d}{d t} \\theta{\\left(t \\right)}$"
      ],
      "text/plain": [
       "Derivative(theta(t), t)"
      ]
     },
     "metadata": {},
     "output_type": "display_data"
    },
    {
     "data": {
      "text/latex": [
       "$\\displaystyle g \\theta{\\left(t \\right)}$"
      ],
      "text/plain": [
       "g*theta(t)"
      ]
     },
     "metadata": {},
     "output_type": "display_data"
    },
    {
     "data": {
      "text/latex": [
       "$\\displaystyle - \\frac{T_{1} \\cos{\\left(\\alpha \\right)}}{m} - \\frac{T_{2} \\cos{\\left(\\alpha \\right)}}{m}$"
      ],
      "text/plain": [
       "-T1*cos(alpha)/m - T2*cos(alpha)/m"
      ]
     },
     "metadata": {},
     "output_type": "display_data"
    },
    {
     "data": {
      "text/latex": [
       "$\\displaystyle - \\frac{6.0 T_{1} h \\sin{\\left(\\alpha \\right)}}{h^{2} m + m w^{2}} + \\frac{6.0 T_{1} w \\cos{\\left(\\alpha \\right)}}{h^{2} m + m w^{2}} + \\frac{6.0 T_{2} h \\sin{\\left(\\alpha \\right)}}{h^{2} m + m w^{2}} - \\frac{6.0 T_{2} w \\cos{\\left(\\alpha \\right)}}{h^{2} m + m w^{2}}$"
      ],
      "text/plain": [
       "-6.0*T1*h*sin(alpha)/(h**2*m + m*w**2) + 6.0*T1*w*cos(alpha)/(h**2*m + m*w**2) + 6.0*T2*h*sin(alpha)/(h**2*m + m*w**2) - 6.0*T2*w*cos(alpha)/(h**2*m + m*w**2)"
      ]
     },
     "metadata": {},
     "output_type": "display_data"
    },
    {
     "data": {
      "text/latex": [
       "$\\displaystyle \\left[\\begin{matrix}0 & 0 & 0 & 1 & 0 & 0\\\\0 & 0 & 0 & 0 & 1 & 0\\\\0 & 0 & 0 & 0 & 0 & 1\\\\0 & 0 & g & 0 & 0 & 0\\\\0 & 0 & 0 & 0 & 0 & 0\\\\0 & 0 & 0 & 0 & 0 & 0\\end{matrix}\\right]$"
      ],
      "text/plain": [
       "Matrix([\n",
       "[0, 0, 0, 1, 0, 0],\n",
       "[0, 0, 0, 0, 1, 0],\n",
       "[0, 0, 0, 0, 0, 1],\n",
       "[0, 0, g, 0, 0, 0],\n",
       "[0, 0, 0, 0, 0, 0],\n",
       "[0, 0, 0, 0, 0, 0]])"
      ]
     },
     "metadata": {},
     "output_type": "display_data"
    },
    {
     "data": {
      "text/latex": [
       "$\\displaystyle \\left[\\begin{matrix}0 & 0\\\\0 & 0\\\\0 & 0\\\\0 & 0\\\\- \\frac{\\cos{\\left(\\alpha \\right)}}{m} & - \\frac{\\cos{\\left(\\alpha \\right)}}{m}\\\\- \\frac{6.0 h \\sin{\\left(\\alpha \\right)}}{h^{2} m + m w^{2}} + \\frac{6.0 w \\cos{\\left(\\alpha \\right)}}{h^{2} m + m w^{2}} & \\frac{6.0 h \\sin{\\left(\\alpha \\right)}}{h^{2} m + m w^{2}} - \\frac{6.0 w \\cos{\\left(\\alpha \\right)}}{h^{2} m + m w^{2}}\\end{matrix}\\right]$"
      ],
      "text/plain": [
       "Matrix([\n",
       "[                                                                       0,                                                                       0],\n",
       "[                                                                       0,                                                                       0],\n",
       "[                                                                       0,                                                                       0],\n",
       "[                                                                       0,                                                                       0],\n",
       "[                                                           -cos(alpha)/m,                                                           -cos(alpha)/m],\n",
       "[-6.0*h*sin(alpha)/(h**2*m + m*w**2) + 6.0*w*cos(alpha)/(h**2*m + m*w**2), 6.0*h*sin(alpha)/(h**2*m + m*w**2) - 6.0*w*cos(alpha)/(h**2*m + m*w**2)]])"
      ]
     },
     "metadata": {},
     "output_type": "display_data"
    }
   ],
   "source": [
    "# Linealizar y espacio estado\n",
    "linear = []\n",
    "for eq in eqs:\n",
    "\teq = eq.subs(sin(theta(t)), 0)\n",
    "\teq = eq.subs(cos(theta(t)), 1)\n",
    "\teq = eq.subs(g, 0)\n",
    "\tlinear += [eq]\n",
    "linear[0] = Eq(diff(x(t), t, 2), theta(t)*g)\n",
    "\n",
    "eom_linear = eom2js.EOM(t, x(t), y(t), theta(t))\n",
    "eom_linear.param = [g, m, a, w, h]\n",
    "eom_linear.input = [T1, T2]\n",
    "\n",
    "eom_linear.add_eq(*linear)\n",
    "for eq in eom_linear.eqs: display(eq)\n",
    "eom_linear.printjs(\"js/eom_linear.js\")\n",
    "\n",
    "A = linear_eq_to_matrix(eom_linear.eqs, eom.state())[0]\n",
    "B = linear_eq_to_matrix(eom_linear.eqs, [T1, T2])[0]\n",
    "display(A, B)"
   ]
  },
  {
   "cell_type": "code",
   "execution_count": 67,
   "metadata": {},
   "outputs": [
    {
     "name": "stdout",
     "output_type": "stream",
     "text": [
      "-8.99508687596126*s.theta - 0.0101699793138771*s.x + 1.66276590023259*s.y - 17.3871490145351*s.dtheta - 0.179184595947719*s.dx + 11.0851165329715*s.dy\n",
      "10.2765553326191*s.theta + 0.0138150694274782*s.x + 1.66277209557984*s.y + 18.4670683818401*s.dtheta + 0.222850477529636*s.dx + 11.0851332514327*s.dy\n"
     ]
    }
   ],
   "source": [
    "vals = (g, a, m, w, h)\n",
    "A_num = lambdify(vals, A, modules=\"numpy\")(9.81, np.pi/6, 24, 0.2, 0.3)\n",
    "B_num = lambdify(vals, B, modules=\"numpy\")(9.81, np.pi/6, 24, 0.2, 0.3)\n",
    "\n",
    "poles = np.array([-0.1, -0.2, -0.3, -0.5, -0.6, -0.7])\n",
    "K = signal.place_poles(A_num, B_num, poles)\n",
    "\n",
    "print(eom.printer.doprint((-Matrix(K.gain_matrix)*Matrix(eom.state()))[0]))\n",
    "print(eom.printer.doprint((-Matrix(K.gain_matrix)*Matrix(eom.state()))[1]))"
   ]
  }
 ],
 "metadata": {
  "kernelspec": {
   "display_name": "base",
   "language": "python",
   "name": "python3"
  },
  "language_info": {
   "codemirror_mode": {
    "name": "ipython",
    "version": 3
   },
   "file_extension": ".py",
   "mimetype": "text/x-python",
   "name": "python",
   "nbconvert_exporter": "python",
   "pygments_lexer": "ipython3",
   "version": "3.10.12"
  },
  "orig_nbformat": 4
 },
 "nbformat": 4,
 "nbformat_minor": 2
}
